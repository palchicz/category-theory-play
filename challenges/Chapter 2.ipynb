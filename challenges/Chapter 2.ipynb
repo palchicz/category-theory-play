{
 "cells": [
  {
   "cell_type": "markdown",
   "metadata": {},
   "source": [
    "**Question 1** Write a memoizing function and test it "
   ]
  },
  {
   "cell_type": "code",
   "execution_count": 72,
   "metadata": {
    "collapsed": true
   },
   "outputs": [],
   "source": [
    "# Creare a memoizing function\n",
    "\n",
    "def memoize(fnx):\n",
    "    cache = {}\n",
    "    kw_start_mark = (object(),)\n",
    "    def inner(*args, **kwargs):\n",
    "        key = args\n",
    "        if kwargs:\n",
    "            key += kw_start_mark\n",
    "            for kw_item in sorted(kwargs.items()):\n",
    "                # kw start mark let's us make the cache key flat (i.e. k1, v1, k2, v2) instead of\n",
    "                # nested ((k1, v1), (k2, v2)), an optimization taken from the actual python library\n",
    "                key += tuple(kw_item,)\n",
    "        if key in cache:\n",
    "            result = cache[key]\n",
    "        else:\n",
    "            result = fnx(*args, **kwargs)\n",
    "            cache[key] = result\n",
    "        return result\n",
    "    return inner\n",
    "\n"
   ]
  },
  {
   "cell_type": "code",
   "execution_count": 73,
   "metadata": {
    "collapsed": true
   },
   "outputs": [],
   "source": [
    "def fibb(s):\n",
    "    if s in (0, 1):\n",
    "        return 1\n",
    "    else:\n",
    "        return fibb(s - 1) + fibb(s - 2)\n",
    "\n",
    "@memoize\n",
    "def m_fibb(s):\n",
    "    if s in (0, 1):\n",
    "        return 1\n",
    "    else:\n",
    "        return m_fibb(s - 1) + m_fibb(s - 2)\n"
   ]
  },
  {
   "cell_type": "code",
   "execution_count": 74,
   "metadata": {},
   "outputs": [
    {
     "name": "stdout",
     "output_type": "stream",
     "text": [
      "CPU times: user 1.22 s, sys: 9.52 ms, total: 1.23 s\n",
      "Wall time: 1.24 s\n"
     ]
    },
    {
     "data": {
      "text/plain": [
       "3524578"
      ]
     },
     "execution_count": 74,
     "metadata": {},
     "output_type": "execute_result"
    }
   ],
   "source": [
    "%time fibb(32)"
   ]
  },
  {
   "cell_type": "code",
   "execution_count": 75,
   "metadata": {},
   "outputs": [
    {
     "name": "stdout",
     "output_type": "stream",
     "text": [
      "CPU times: user 64 µs, sys: 0 ns, total: 64 µs\n",
      "Wall time: 67 µs\n"
     ]
    },
    {
     "data": {
      "text/plain": [
       "3524578"
      ]
     },
     "execution_count": 75,
     "metadata": {},
     "output_type": "execute_result"
    }
   ],
   "source": [
    "%time m_fibb(32)"
   ]
  },
  {
   "cell_type": "markdown",
   "metadata": {},
   "source": [
    "**Question 2:** Try to memoize a function from your standard library that you normally use to produce random numbers. Does it work?"
   ]
  },
  {
   "cell_type": "code",
   "execution_count": 77,
   "metadata": {},
   "outputs": [
    {
     "name": "stdout",
     "output_type": "stream",
     "text": [
      "CPU times: user 13 µs, sys: 0 ns, total: 13 µs\n",
      "Wall time: 17.2 µs\n",
      "CPU times: user 6 µs, sys: 0 ns, total: 6 µs\n",
      "Wall time: 10 µs\n",
      "CPU times: user 7 µs, sys: 1e+03 ns, total: 8 µs\n",
      "Wall time: 11.2 µs\n"
     ]
    },
    {
     "data": {
      "text/plain": [
       "True"
      ]
     },
     "execution_count": 77,
     "metadata": {},
     "output_type": "execute_result"
    }
   ],
   "source": [
    "import random\n",
    "m_randrange =  memoize(random.randrange)\n",
    "%time result_1 = m_randrange(100)\n",
    "%time result_2 = m_randrange(100)\n",
    "%time result_3 = m_randrange(100)\n",
    "# Should not be equal but they are...uh oh\n",
    "result_1 == result_2 == result_3"
   ]
  },
  {
   "cell_type": "markdown",
   "metadata": {},
   "source": [
    "**Question 3:** Most random number generators can be initialized with a seed. Implement a function that takes a seed, calls the random number generator with that seed, and returns the result. Memoize that function. Does it work?"
   ]
  },
  {
   "cell_type": "code",
   "execution_count": 79,
   "metadata": {
    "collapsed": true
   },
   "outputs": [],
   "source": [
    "def random_with_seed(seed, end):\n",
    "    random.seed(seed)\n",
    "    result = random.randrange(end)\n",
    "    random.seed(None)\n",
    "    return result"
   ]
  },
  {
   "cell_type": "code",
   "execution_count": 86,
   "metadata": {},
   "outputs": [
    {
     "name": "stdout",
     "output_type": "stream",
     "text": [
      "CPU times: user 435 µs, sys: 706 µs, total: 1.14 ms\n",
      "Wall time: 484 µs\n",
      "CPU times: user 338 µs, sys: 660 µs, total: 998 µs\n",
      "Wall time: 413 µs\n",
      "CPU times: user 314 µs, sys: 360 µs, total: 674 µs\n",
      "Wall time: 389 µs\n",
      "CPU times: user 348 µs, sys: 326 µs, total: 674 µs\n",
      "Wall time: 496 µs\n"
     ]
    },
    {
     "data": {
      "text/plain": [
       "True"
      ]
     },
     "execution_count": 86,
     "metadata": {},
     "output_type": "execute_result"
    }
   ],
   "source": [
    "%time result_1 = random_with_seed(10, 100)\n",
    "%time result_2 = random_with_seed(10, 100)\n",
    "%time result_3 = random_with_seed(10, 100)\n",
    "%time result_4 = random_with_seed(12, 100)\n",
    "# 1-3 should equal, but not 4\n",
    "result_1 == result_2 == result_3 != result_4"
   ]
  },
  {
   "cell_type": "code",
   "execution_count": 87,
   "metadata": {},
   "outputs": [
    {
     "name": "stdout",
     "output_type": "stream",
     "text": [
      "CPU times: user 251 µs, sys: 549 µs, total: 800 µs\n",
      "Wall time: 348 µs\n",
      "CPU times: user 8 µs, sys: 1e+03 ns, total: 9 µs\n",
      "Wall time: 11.9 µs\n",
      "CPU times: user 9 µs, sys: 1 µs, total: 10 µs\n",
      "Wall time: 11.9 µs\n",
      "CPU times: user 539 µs, sys: 611 µs, total: 1.15 ms\n",
      "Wall time: 603 µs\n"
     ]
    },
    {
     "data": {
      "text/plain": [
       "True"
      ]
     },
     "execution_count": 87,
     "metadata": {},
     "output_type": "execute_result"
    }
   ],
   "source": [
    "m_random_with_seed = memoize(random_with_seed)\n",
    "\n",
    "%time result_1 = m_random_with_seed(10, 100)\n",
    "%time result_2 = m_random_with_seed(10, 100)\n",
    "%time result_3 = m_random_with_seed(10, 100)\n",
    "%time result_4 = m_random_with_seed(12, 100)\n",
    "# 1-3 should equal, but not 4\n",
    "result_1 == result_2 == result_3 != result_4"
   ]
  },
  {
   "cell_type": "markdown",
   "metadata": {},
   "source": [
    "**Question 4:** Which of these C++ functions are pure? Try to memoize them and observe what happens when you call them multiple times: memoized and not.\n",
    "\n",
    "Skipping implementation. Not worth the time.\n",
    "\n",
    "#### 1) The fibb function from the example in the text.\n",
    "Yes, pure.\n",
    "\n",
    "#### 2)\n",
    "```c\n",
    "std::getchar()\n",
    "\n",
    "```\n",
    "No, not pure. Memoized will produce different output for same input, which is Void\n",
    "#### 3)\n",
    "```c\n",
    "bool f() { \n",
    "    std::cout << \"Hello!\" << std::endl;\n",
    "    return true; \n",
    "}\n",
    "```\n",
    "Not pure. Has side effect. Memoized will always return true though.\n",
    "\n",
    "#### 4) \n",
    "\n",
    "```c\n",
    "int f(int x)\n",
    "{\n",
    "    static int y = 0;\n",
    "    y += x;\n",
    "    return y;\n",
    "}\n",
    "```\n",
    "\n",
    "Not pure: Function output changes every time due to static. Memoized would return the same result for the same input, but things would get weird fast since f(1), f(2), f(1) would produce 3 distinct results where as mem_f(1), mem_f(2), mem_f(1) would produce the same result for input = 1"
   ]
  },
  {
   "cell_type": "code",
   "execution_count": null,
   "metadata": {
    "collapsed": true
   },
   "outputs": [],
   "source": []
  }
 ],
 "metadata": {
  "kernelspec": {
   "display_name": "Python 3",
   "language": "python",
   "name": "python3"
  },
  "language_info": {
   "codemirror_mode": {
    "name": "ipython",
    "version": 3
   },
   "file_extension": ".py",
   "mimetype": "text/x-python",
   "name": "python",
   "nbconvert_exporter": "python",
   "pygments_lexer": "ipython3",
   "version": "3.5.0"
  }
 },
 "nbformat": 4,
 "nbformat_minor": 2
}
